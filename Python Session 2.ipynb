{
 "cells": [
  {
   "cell_type": "code",
   "execution_count": 1,
   "id": "0b99a2be",
   "metadata": {},
   "outputs": [
    {
     "ename": "SyntaxError",
     "evalue": "Missing parentheses in call to 'print'. Did you mean print(...)? (1496068910.py, line 1)",
     "output_type": "error",
     "traceback": [
      "\u001b[1;36m  Cell \u001b[1;32mIn[1], line 1\u001b[1;36m\u001b[0m\n\u001b[1;33m    print{\"GopiKrishna Gosu\"}\u001b[0m\n\u001b[1;37m    ^\u001b[0m\n\u001b[1;31mSyntaxError\u001b[0m\u001b[1;31m:\u001b[0m Missing parentheses in call to 'print'. Did you mean print(...)?\n"
     ]
    }
   ],
   "source": [
    "print{\"GopiKrishna Gosu\"}\n"
   ]
  },
  {
   "cell_type": "code",
   "execution_count": 2,
   "id": "2d0b2299",
   "metadata": {},
   "outputs": [
    {
     "name": "stdout",
     "output_type": "stream",
     "text": [
      "GopiKrishna Gosu\n"
     ]
    }
   ],
   "source": [
    "print(\"GopiKrishna Gosu\")\n"
   ]
  },
  {
   "cell_type": "code",
   "execution_count": 3,
   "id": "9808ac09",
   "metadata": {},
   "outputs": [
    {
     "name": "stdout",
     "output_type": "stream",
     "text": [
      "False\n",
      "True\n"
     ]
    }
   ],
   "source": [
    "a=5\n",
    "b=2\n",
    "print(a>b and a!=5)\n",
    "print(a<b or a==5)"
   ]
  },
  {
   "cell_type": "code",
   "execution_count": 6,
   "id": "e4415268",
   "metadata": {},
   "outputs": [
    {
     "name": "stdout",
     "output_type": "stream",
     "text": [
      "Enter the value:60\n",
      "True the value is >50 60\n"
     ]
    }
   ],
   "source": [
    "a=int(input(\"Enter the value:\"))\n",
    "if a>50:\n",
    "    print(\"True the value is >50\",a)"
   ]
  },
  {
   "cell_type": "code",
   "execution_count": 7,
   "id": "addb2360",
   "metadata": {},
   "outputs": [
    {
     "name": "stdout",
     "output_type": "stream",
     "text": [
      "Enter the first variable1:200\n",
      "Enter the first variable2:60\n",
      "I Like the Rose:\n"
     ]
    }
   ],
   "source": [
    "a=int(input(\"Enter the first variable1:\"))\n",
    "b=int(input(\"Enter the first variable2:\"))\n",
    "if a+b>250:\n",
    "    print(\"I Like the Rose:\")\n"
   ]
  },
  {
   "cell_type": "code",
   "execution_count": 9,
   "id": "3ece23ae",
   "metadata": {},
   "outputs": [
    {
     "name": "stdout",
     "output_type": "stream",
     "text": [
      "Enter the value:60\n",
      "a valiue is >50\n"
     ]
    }
   ],
   "source": [
    "a=int(input(\"Enter the value:\"))\n",
    "if a>50:\n",
    "    print(\"a valiue is >50\")\n",
    "else:\n",
    "    print(\"Sorry\")"
   ]
  },
  {
   "cell_type": "code",
   "execution_count": 10,
   "id": "39bd7ecf",
   "metadata": {},
   "outputs": [
    {
     "name": "stdout",
     "output_type": "stream",
     "text": [
      "Enter the value1:200\n",
      "Enter the value2:50\n",
      "sorry\n"
     ]
    }
   ],
   "source": [
    "a=int(input(\"Enter the value1:\"))\n",
    "b=int(input(\"Enter the value2:\"))\n",
    "if a+b>250:\n",
    "    print(\"I like the rose:\")\n",
    "else:\n",
    "    print(\"sorry\")"
   ]
  },
  {
   "cell_type": "code",
   "execution_count": 12,
   "id": "b24e1b60",
   "metadata": {},
   "outputs": [
    {
     "name": "stdout",
     "output_type": "stream",
     "text": [
      "Enter the value1:20\n",
      "Enter the value2:10\n",
      "10  is smaller\n"
     ]
    }
   ],
   "source": [
    "a=int(input(\"Enter the value1:\"))\n",
    "b=int(input(\"Enter the value2:\"))\n",
    "if a<b:\n",
    "    print(a,\" is smaller\")\n",
    "else:\n",
    "    print(b,\" is smaller\")"
   ]
  },
  {
   "cell_type": "markdown",
   "id": "81ce32b4",
   "metadata": {},
   "source": []
  },
  {
   "cell_type": "code",
   "execution_count": 19,
   "id": "fc184a95",
   "metadata": {},
   "outputs": [
    {
     "name": "stdout",
     "output_type": "stream",
     "text": [
      "Enter Mark1:20\n",
      "Enter Mark2:20\n",
      "Enter Mark3:20\n",
      "Enter Mark4:20\n",
      "Enter Mark5:20\n",
      "Enter Mark6:20\n",
      "Failed\n"
     ]
    }
   ],
   "source": [
    "m1=int(input(\"Enter Mark1:\"))\n",
    "m2=int(input(\"Enter Mark2:\"))\n",
    "m3=int(input(\"Enter Mark3:\"))\n",
    "m4=int(input(\"Enter Mark4:\"))\n",
    "m5=int(input(\"Enter Mark5:\"))\n",
    "m6=int(input(\"Enter Mark6:\"))\n",
    "total=m1+m2+m3+m4+m5+m6\n",
    "if total>=480:\n",
    "    print(\"Grade A\")\n",
    "elif total>=360 and total<480:\n",
    "    print(\"Grade B\")\n",
    "elif total>=300 and total<360:\n",
    "    print(\"Grade C\")\n",
    "elif total>=210 and total<300:\n",
    "    print(\"Garde D\")\n",
    "else:\n",
    "    print(\"Failed\")"
   ]
  },
  {
   "cell_type": "code",
   "execution_count": 16,
   "id": "f2ef34e9",
   "metadata": {},
   "outputs": [
    {
     "name": "stdout",
     "output_type": "stream",
     "text": [
      "504\n"
     ]
    }
   ],
   "source": [
    "print(total)"
   ]
  },
  {
   "cell_type": "code",
   "execution_count": 22,
   "id": "5bd6b207",
   "metadata": {},
   "outputs": [
    {
     "name": "stdout",
     "output_type": "stream",
     "text": [
      "Get the unit spent:500\n",
      "if Condition\n",
      "Total Charge: 7500\n"
     ]
    }
   ],
   "source": [
    "a=int(input(\"Get the unit spent:\"))\n",
    "if a>=500:\n",
    "    b=a*15\n",
    "    print(\"if Condition\")\n",
    "    print(\"Total Charge:\",b)\n",
    "elif a>=450 and a<500:\n",
    "    b=a*10\n",
    "    print(\"elif1 Condition\")\n",
    "    print(\"Total charge:\",b)\n",
    "elif a>=400 and a<450:\n",
    "    b=a*7\n",
    "    print(\"elif2 Condition\")\n",
    "    print(\"Total charge:\",b)\n",
    "elif a>=350 and a<400:\n",
    "    b=a*5\n",
    "    print(\"elif3 Condition\")\n",
    "    print(\"Total charge:\",b)\n",
    "else:\n",
    "    b=a*2\n",
    "    print(\"else Condition\")\n",
    "    print(\"Total Charge:\",b)\n",
    "\n",
    "    "
   ]
  },
  {
   "cell_type": "code",
   "execution_count": 24,
   "id": "b9f323b0",
   "metadata": {},
   "outputs": [
    {
     "name": "stdout",
     "output_type": "stream",
     "text": [
      "Get the Value for A:30\n",
      "Get the value for B:15\n",
      "Get the value for C:60\n",
      "C: 60\n"
     ]
    }
   ],
   "source": [
    "a=int(input(\"Get the Value for A:\"))\n",
    "b=int(input(\"Get the value for B:\"))\n",
    "c=int(input(\"Get the value for C:\"))\n",
    "if a>b:\n",
    "    if a>c:\n",
    "        print(\"A:\",a)\n",
    "    else:\n",
    "        print(\"C:\",c)\n",
    "else:\n",
    "    if b>c:\n",
    "        print(\"B:\",b)\n",
    "    else:\n",
    "        print(\"C:\",c)"
   ]
  },
  {
   "cell_type": "code",
   "execution_count": 26,
   "id": "535132fb",
   "metadata": {},
   "outputs": [
    {
     "ename": "IndentationError",
     "evalue": "unindent does not match any outer indentation level (<tokenize>, line 7)",
     "output_type": "error",
     "traceback": [
      "\u001b[1;36m  File \u001b[1;32m<tokenize>:7\u001b[1;36m\u001b[0m\n\u001b[1;33m    else:\u001b[0m\n\u001b[1;37m    ^\u001b[0m\n\u001b[1;31mIndentationError\u001b[0m\u001b[1;31m:\u001b[0m unindent does not match any outer indentation level\n"
     ]
    }
   ],
   "source": [
    "a=int(input(\"Get the Value for A:\"))\n",
    "b=int(input(\"Get the value for B:\"))\n",
    "c=int(input(\"Get the value for C:\"))\n",
    "if a>b:\n",
    "if a>c:\n",
    "        print(\"A:\",a)\n",
    "    else:\n",
    "        print(\"C:\",c)\n",
    "else:\n",
    "    if b>c:\n",
    "        print(\"B:\",b)\n",
    "    else:\n",
    "        print(\"C:\",c)"
   ]
  },
  {
   "cell_type": "code",
   "execution_count": null,
   "id": "dadd2c9b",
   "metadata": {},
   "outputs": [],
   "source": []
  }
 ],
 "metadata": {
  "kernelspec": {
   "display_name": "Python 3 (ipykernel)",
   "language": "python",
   "name": "python3"
  },
  "language_info": {
   "codemirror_mode": {
    "name": "ipython",
    "version": 3
   },
   "file_extension": ".py",
   "mimetype": "text/x-python",
   "name": "python",
   "nbconvert_exporter": "python",
   "pygments_lexer": "ipython3",
   "version": "3.10.9"
  }
 },
 "nbformat": 4,
 "nbformat_minor": 5
}
