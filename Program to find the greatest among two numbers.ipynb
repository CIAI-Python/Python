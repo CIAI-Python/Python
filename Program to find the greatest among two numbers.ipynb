{
 "cells": [
  {
   "cell_type": "code",
   "execution_count": null,
   "id": "d38198fc",
   "metadata": {},
   "outputs": [],
   "source": [
    "a=int(input(\"Enter the value1:\"))\n",
    "b=int(input(\"Enter the value2:\"))\n",
    "if a>b:\n",
    "    print(\"Greatest value is\")"
   ]
  }
 ],
 "metadata": {
  "kernelspec": {
   "display_name": "Python 3 (ipykernel)",
   "language": "python",
   "name": "python3"
  },
  "language_info": {
   "codemirror_mode": {
    "name": "ipython",
    "version": 3
   },
   "file_extension": ".py",
   "mimetype": "text/x-python",
   "name": "python",
   "nbconvert_exporter": "python",
   "pygments_lexer": "ipython3",
   "version": "3.10.9"
  }
 },
 "nbformat": 4,
 "nbformat_minor": 5
}
